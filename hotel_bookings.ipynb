{
 "cells": [
  {
   "cell_type": "markdown",
   "metadata": {},
   "source": [
    "# 吴楠楠 3220190895"
   ]
  },
  {
   "cell_type": "code",
   "execution_count": 1,
   "metadata": {},
   "outputs": [],
   "source": [
    "import numpy as np\n",
    "import pandas as pd\n",
    "import os\n",
    "import csv\n",
    "import seaborn as sns\n",
    "import matplotlib.pyplot as plt\n",
    "import matplotlib.ticker as mtick\n",
    "import warnings\n",
    "from collections import Counter"
   ]
  },
  {
   "cell_type": "markdown",
   "metadata": {},
   "source": [
    "# 1 酒店基本情况"
   ]
  },
  {
   "cell_type": "code",
   "execution_count": 2,
   "metadata": {
    "scrolled": true
   },
   "outputs": [
    {
     "data": {
      "text/html": [
       "<div>\n",
       "<style scoped>\n",
       "    .dataframe tbody tr th:only-of-type {\n",
       "        vertical-align: middle;\n",
       "    }\n",
       "\n",
       "    .dataframe tbody tr th {\n",
       "        vertical-align: top;\n",
       "    }\n",
       "\n",
       "    .dataframe thead th {\n",
       "        text-align: right;\n",
       "    }\n",
       "</style>\n",
       "<table border=\"1\" class=\"dataframe\">\n",
       "  <thead>\n",
       "    <tr style=\"text-align: right;\">\n",
       "      <th></th>\n",
       "      <th>hotel</th>\n",
       "      <th>is_canceled</th>\n",
       "      <th>lead_time</th>\n",
       "      <th>arrival_date_year</th>\n",
       "      <th>arrival_date_month</th>\n",
       "      <th>arrival_date_week_number</th>\n",
       "      <th>arrival_date_day_of_month</th>\n",
       "      <th>stays_in_weekend_nights</th>\n",
       "      <th>stays_in_week_nights</th>\n",
       "      <th>adults</th>\n",
       "      <th>...</th>\n",
       "      <th>deposit_type</th>\n",
       "      <th>agent</th>\n",
       "      <th>company</th>\n",
       "      <th>days_in_waiting_list</th>\n",
       "      <th>customer_type</th>\n",
       "      <th>adr</th>\n",
       "      <th>required_car_parking_spaces</th>\n",
       "      <th>total_of_special_requests</th>\n",
       "      <th>reservation_status</th>\n",
       "      <th>reservation_status_date</th>\n",
       "    </tr>\n",
       "  </thead>\n",
       "  <tbody>\n",
       "    <tr>\n",
       "      <th>0</th>\n",
       "      <td>Resort Hotel</td>\n",
       "      <td>0</td>\n",
       "      <td>342</td>\n",
       "      <td>2015</td>\n",
       "      <td>July</td>\n",
       "      <td>27</td>\n",
       "      <td>1</td>\n",
       "      <td>0</td>\n",
       "      <td>0</td>\n",
       "      <td>2</td>\n",
       "      <td>...</td>\n",
       "      <td>No Deposit</td>\n",
       "      <td>NaN</td>\n",
       "      <td>NaN</td>\n",
       "      <td>0</td>\n",
       "      <td>Transient</td>\n",
       "      <td>0.0</td>\n",
       "      <td>0</td>\n",
       "      <td>0</td>\n",
       "      <td>Check-Out</td>\n",
       "      <td>2015-07-01</td>\n",
       "    </tr>\n",
       "    <tr>\n",
       "      <th>1</th>\n",
       "      <td>Resort Hotel</td>\n",
       "      <td>0</td>\n",
       "      <td>737</td>\n",
       "      <td>2015</td>\n",
       "      <td>July</td>\n",
       "      <td>27</td>\n",
       "      <td>1</td>\n",
       "      <td>0</td>\n",
       "      <td>0</td>\n",
       "      <td>2</td>\n",
       "      <td>...</td>\n",
       "      <td>No Deposit</td>\n",
       "      <td>NaN</td>\n",
       "      <td>NaN</td>\n",
       "      <td>0</td>\n",
       "      <td>Transient</td>\n",
       "      <td>0.0</td>\n",
       "      <td>0</td>\n",
       "      <td>0</td>\n",
       "      <td>Check-Out</td>\n",
       "      <td>2015-07-01</td>\n",
       "    </tr>\n",
       "    <tr>\n",
       "      <th>2</th>\n",
       "      <td>Resort Hotel</td>\n",
       "      <td>0</td>\n",
       "      <td>7</td>\n",
       "      <td>2015</td>\n",
       "      <td>July</td>\n",
       "      <td>27</td>\n",
       "      <td>1</td>\n",
       "      <td>0</td>\n",
       "      <td>1</td>\n",
       "      <td>1</td>\n",
       "      <td>...</td>\n",
       "      <td>No Deposit</td>\n",
       "      <td>NaN</td>\n",
       "      <td>NaN</td>\n",
       "      <td>0</td>\n",
       "      <td>Transient</td>\n",
       "      <td>75.0</td>\n",
       "      <td>0</td>\n",
       "      <td>0</td>\n",
       "      <td>Check-Out</td>\n",
       "      <td>2015-07-02</td>\n",
       "    </tr>\n",
       "    <tr>\n",
       "      <th>3</th>\n",
       "      <td>Resort Hotel</td>\n",
       "      <td>0</td>\n",
       "      <td>13</td>\n",
       "      <td>2015</td>\n",
       "      <td>July</td>\n",
       "      <td>27</td>\n",
       "      <td>1</td>\n",
       "      <td>0</td>\n",
       "      <td>1</td>\n",
       "      <td>1</td>\n",
       "      <td>...</td>\n",
       "      <td>No Deposit</td>\n",
       "      <td>304.0</td>\n",
       "      <td>NaN</td>\n",
       "      <td>0</td>\n",
       "      <td>Transient</td>\n",
       "      <td>75.0</td>\n",
       "      <td>0</td>\n",
       "      <td>0</td>\n",
       "      <td>Check-Out</td>\n",
       "      <td>2015-07-02</td>\n",
       "    </tr>\n",
       "    <tr>\n",
       "      <th>4</th>\n",
       "      <td>Resort Hotel</td>\n",
       "      <td>0</td>\n",
       "      <td>14</td>\n",
       "      <td>2015</td>\n",
       "      <td>July</td>\n",
       "      <td>27</td>\n",
       "      <td>1</td>\n",
       "      <td>0</td>\n",
       "      <td>2</td>\n",
       "      <td>2</td>\n",
       "      <td>...</td>\n",
       "      <td>No Deposit</td>\n",
       "      <td>240.0</td>\n",
       "      <td>NaN</td>\n",
       "      <td>0</td>\n",
       "      <td>Transient</td>\n",
       "      <td>98.0</td>\n",
       "      <td>0</td>\n",
       "      <td>1</td>\n",
       "      <td>Check-Out</td>\n",
       "      <td>2015-07-03</td>\n",
       "    </tr>\n",
       "  </tbody>\n",
       "</table>\n",
       "<p>5 rows × 32 columns</p>\n",
       "</div>"
      ],
      "text/plain": [
       "          hotel  is_canceled  lead_time  arrival_date_year arrival_date_month  \\\n",
       "0  Resort Hotel            0        342               2015               July   \n",
       "1  Resort Hotel            0        737               2015               July   \n",
       "2  Resort Hotel            0          7               2015               July   \n",
       "3  Resort Hotel            0         13               2015               July   \n",
       "4  Resort Hotel            0         14               2015               July   \n",
       "\n",
       "   arrival_date_week_number  arrival_date_day_of_month  \\\n",
       "0                        27                          1   \n",
       "1                        27                          1   \n",
       "2                        27                          1   \n",
       "3                        27                          1   \n",
       "4                        27                          1   \n",
       "\n",
       "   stays_in_weekend_nights  stays_in_week_nights  adults  ...  deposit_type  \\\n",
       "0                        0                     0       2  ...    No Deposit   \n",
       "1                        0                     0       2  ...    No Deposit   \n",
       "2                        0                     1       1  ...    No Deposit   \n",
       "3                        0                     1       1  ...    No Deposit   \n",
       "4                        0                     2       2  ...    No Deposit   \n",
       "\n",
       "   agent company days_in_waiting_list customer_type   adr  \\\n",
       "0    NaN     NaN                    0     Transient   0.0   \n",
       "1    NaN     NaN                    0     Transient   0.0   \n",
       "2    NaN     NaN                    0     Transient  75.0   \n",
       "3  304.0     NaN                    0     Transient  75.0   \n",
       "4  240.0     NaN                    0     Transient  98.0   \n",
       "\n",
       "   required_car_parking_spaces  total_of_special_requests  reservation_status  \\\n",
       "0                            0                          0           Check-Out   \n",
       "1                            0                          0           Check-Out   \n",
       "2                            0                          0           Check-Out   \n",
       "3                            0                          0           Check-Out   \n",
       "4                            0                          1           Check-Out   \n",
       "\n",
       "  reservation_status_date  \n",
       "0              2015-07-01  \n",
       "1              2015-07-01  \n",
       "2              2015-07-02  \n",
       "3              2015-07-02  \n",
       "4              2015-07-03  \n",
       "\n",
       "[5 rows x 32 columns]"
      ]
     },
     "execution_count": 2,
     "metadata": {},
     "output_type": "execute_result"
    }
   ],
   "source": [
    "warnings.filterwarnings(\"ignore\")\n",
    "hotel_df = pd.read_csv(\"D:/python/data/hotel_bookings.csv\")\n",
    "length = len(hotel_df)\n",
    "hotel_df.head()"
   ]
  },
  {
   "cell_type": "markdown",
   "metadata": {},
   "source": [
    "## 1.1 缺失值处理\n",
    "该数据集中只有三个属性有缺失值，company的缺失值太多删除该列，children和agent中删除缺失值。"
   ]
  },
  {
   "cell_type": "code",
   "execution_count": 3,
   "metadata": {},
   "outputs": [
    {
     "data": {
      "text/html": [
       "<div>\n",
       "<style scoped>\n",
       "    .dataframe tbody tr th:only-of-type {\n",
       "        vertical-align: middle;\n",
       "    }\n",
       "\n",
       "    .dataframe tbody tr th {\n",
       "        vertical-align: top;\n",
       "    }\n",
       "\n",
       "    .dataframe thead th {\n",
       "        text-align: right;\n",
       "    }\n",
       "</style>\n",
       "<table border=\"1\" class=\"dataframe\">\n",
       "  <thead>\n",
       "    <tr style=\"text-align: right;\">\n",
       "      <th></th>\n",
       "      <th>hotel</th>\n",
       "      <th>is_canceled</th>\n",
       "      <th>lead_time</th>\n",
       "      <th>arrival_date_year</th>\n",
       "      <th>arrival_date_month</th>\n",
       "      <th>arrival_date_week_number</th>\n",
       "      <th>arrival_date_day_of_month</th>\n",
       "      <th>stays_in_weekend_nights</th>\n",
       "      <th>stays_in_week_nights</th>\n",
       "      <th>adults</th>\n",
       "      <th>...</th>\n",
       "      <th>deposit_type</th>\n",
       "      <th>agent</th>\n",
       "      <th>company</th>\n",
       "      <th>days_in_waiting_list</th>\n",
       "      <th>customer_type</th>\n",
       "      <th>adr</th>\n",
       "      <th>required_car_parking_spaces</th>\n",
       "      <th>total_of_special_requests</th>\n",
       "      <th>reservation_status</th>\n",
       "      <th>reservation_status_date</th>\n",
       "    </tr>\n",
       "  </thead>\n",
       "  <tbody>\n",
       "    <tr>\n",
       "      <th>Total</th>\n",
       "      <td>0</td>\n",
       "      <td>0</td>\n",
       "      <td>0</td>\n",
       "      <td>0</td>\n",
       "      <td>0</td>\n",
       "      <td>0</td>\n",
       "      <td>0</td>\n",
       "      <td>0</td>\n",
       "      <td>0</td>\n",
       "      <td>0</td>\n",
       "      <td>...</td>\n",
       "      <td>0</td>\n",
       "      <td>16340</td>\n",
       "      <td>112593</td>\n",
       "      <td>0</td>\n",
       "      <td>0</td>\n",
       "      <td>0</td>\n",
       "      <td>0</td>\n",
       "      <td>0</td>\n",
       "      <td>0</td>\n",
       "      <td>0</td>\n",
       "    </tr>\n",
       "    <tr>\n",
       "      <th>Percent</th>\n",
       "      <td>0</td>\n",
       "      <td>0</td>\n",
       "      <td>0</td>\n",
       "      <td>0</td>\n",
       "      <td>0</td>\n",
       "      <td>0</td>\n",
       "      <td>0</td>\n",
       "      <td>0</td>\n",
       "      <td>0</td>\n",
       "      <td>0</td>\n",
       "      <td>...</td>\n",
       "      <td>0</td>\n",
       "      <td>13.6862</td>\n",
       "      <td>94.3069</td>\n",
       "      <td>0</td>\n",
       "      <td>0</td>\n",
       "      <td>0</td>\n",
       "      <td>0</td>\n",
       "      <td>0</td>\n",
       "      <td>0</td>\n",
       "      <td>0</td>\n",
       "    </tr>\n",
       "    <tr>\n",
       "      <th>Types</th>\n",
       "      <td>object</td>\n",
       "      <td>int64</td>\n",
       "      <td>int64</td>\n",
       "      <td>int64</td>\n",
       "      <td>object</td>\n",
       "      <td>int64</td>\n",
       "      <td>int64</td>\n",
       "      <td>int64</td>\n",
       "      <td>int64</td>\n",
       "      <td>int64</td>\n",
       "      <td>...</td>\n",
       "      <td>object</td>\n",
       "      <td>float64</td>\n",
       "      <td>float64</td>\n",
       "      <td>int64</td>\n",
       "      <td>object</td>\n",
       "      <td>float64</td>\n",
       "      <td>int64</td>\n",
       "      <td>int64</td>\n",
       "      <td>object</td>\n",
       "      <td>object</td>\n",
       "    </tr>\n",
       "  </tbody>\n",
       "</table>\n",
       "<p>3 rows × 32 columns</p>\n",
       "</div>"
      ],
      "text/plain": [
       "          hotel is_canceled lead_time arrival_date_year arrival_date_month  \\\n",
       "Total         0           0         0                 0                  0   \n",
       "Percent       0           0         0                 0                  0   \n",
       "Types    object       int64     int64             int64             object   \n",
       "\n",
       "        arrival_date_week_number arrival_date_day_of_month  \\\n",
       "Total                          0                         0   \n",
       "Percent                        0                         0   \n",
       "Types                      int64                     int64   \n",
       "\n",
       "        stays_in_weekend_nights stays_in_week_nights adults  ... deposit_type  \\\n",
       "Total                         0                    0      0  ...            0   \n",
       "Percent                       0                    0      0  ...            0   \n",
       "Types                     int64                int64  int64  ...       object   \n",
       "\n",
       "           agent  company days_in_waiting_list customer_type      adr  \\\n",
       "Total      16340   112593                    0             0        0   \n",
       "Percent  13.6862  94.3069                    0             0        0   \n",
       "Types    float64  float64                int64        object  float64   \n",
       "\n",
       "        required_car_parking_spaces total_of_special_requests  \\\n",
       "Total                             0                         0   \n",
       "Percent                           0                         0   \n",
       "Types                         int64                     int64   \n",
       "\n",
       "        reservation_status reservation_status_date  \n",
       "Total                    0                       0  \n",
       "Percent                  0                       0  \n",
       "Types               object                  object  \n",
       "\n",
       "[3 rows x 32 columns]"
      ]
     },
     "execution_count": 3,
     "metadata": {},
     "output_type": "execute_result"
    }
   ],
   "source": [
    "def missing_data(data):\n",
    "    total = data.isnull().sum()\n",
    "    percent = (data.isnull().sum()/data.isnull().count()*100)\n",
    "    tt = pd.concat([total, percent], axis=1, keys=['Total', 'Percent'])\n",
    "    types = []\n",
    "    for col in data.columns:\n",
    "        dtype = str(data[col].dtype)\n",
    "        types.append(dtype)\n",
    "    tt['Types'] = types\n",
    "    return(np.transpose(tt))\n",
    "missing_data(hotel_df)"
   ]
  },
  {
   "cell_type": "code",
   "execution_count": 4,
   "metadata": {},
   "outputs": [],
   "source": [
    "hotel_df.drop('company', axis=1, inplace=True)\n",
    "missing_replacements = {'children': 0.0, 'country': 'Unknown', 'agent': 0.0}\n",
    "hotel_df = hotel_df.fillna(missing_replacements)"
   ]
  },
  {
   "cell_type": "markdown",
   "metadata": {},
   "source": [
    "## 1.2 预定情况"
   ]
  },
  {
   "cell_type": "code",
   "execution_count": 5,
   "metadata": {},
   "outputs": [
    {
     "data": {
      "text/plain": [
       "Text(0, 0.5, 'Total Count')"
      ]
     },
     "execution_count": 5,
     "metadata": {},
     "output_type": "execute_result"
    },
    {
     "data": {
      "image/png": "[encoded data removed]",
      "text/plain": [
       "<Figure size 432x288 with 1 Axes>"
      ]
     },
     "metadata": {
      "needs_background": "light"
     },
     "output_type": "display_data"
    }
   ],
   "source": [
    "ax = sns.countplot(x=\"hotel\", data=hotel_df)\n",
    "plt.title('Hotel Booking')\n",
    "plt.xlabel('hotel?')\n",
    "plt.ylabel('Total Count')"
   ]
  },
  {
   "cell_type": "code",
   "execution_count": 6,
   "metadata": {},
   "outputs": [
    {
     "data": {
      "text/plain": [
       "City Hotel      79330\n",
       "Resort Hotel    40060\n",
       "Name: hotel, dtype: int64"
      ]
     },
     "execution_count": 6,
     "metadata": {},
     "output_type": "execute_result"
    }
   ],
   "source": [
    "pd.value_counts(hotel_df['hotel'])"
   ]
  },
  {
   "cell_type": "markdown",
   "metadata": {},
   "source": [
    "相较来看，预定城市酒店的人数远高于度假酒店。"
   ]
  },
  {
   "cell_type": "markdown",
   "metadata": {},
   "source": [
    "## 1.3 入住情况"
   ]
  },
  {
   "cell_type": "code",
   "execution_count": 7,
   "metadata": {},
   "outputs": [
    {
     "data": {
      "text/plain": [
       "Text(0, 0.5, 'Number of bookings')"
      ]
     },
     "execution_count": 7,
     "metadata": {},
     "output_type": "execute_result"
    },
    {
     "data": {
      "image/png": "[encoded data removed]",
      "text/plain": [
       "<Figure size 432x288 with 1 Axes>"
      ]
     },
     "metadata": {
      "needs_background": "light"
     },
     "output_type": "display_data"
    }
   ],
   "source": [
    "sns.countplot(x = 'is_canceled', hue=\"hotel\", data=hotel_df)\n",
    "plt.title(\"Booking Cancelled/Not by Hotel\")\n",
    "plt.xlabel(\"Cancelled/Not\")\n",
    "plt.ylabel(\"Number of bookings\")"
   ]
  },
  {
   "cell_type": "code",
   "execution_count": 8,
   "metadata": {},
   "outputs": [
    {
     "name": "stdout",
     "output_type": "stream",
     "text": [
      "城市酒店入住率：0.722，度假酒店入住率0.583\n"
     ]
    }
   ],
   "source": [
    "resort_guests1 = hotel_df[(hotel_df['hotel'] == 'Resort Hotel')]\n",
    "city_guests1 = hotel_df[(hotel_df['hotel'] == 'City Hotel')]\n",
    "resort_guests = hotel_df[(hotel_df['hotel'] == 'Resort Hotel') & (hotel_df['is_canceled'] == 0)]\n",
    "city_guests = hotel_df[(hotel_df['hotel'] == 'City Hotel') & (hotel_df['is_canceled'] == 0)]\n",
    "resort_rate = len(resort_guests)/len(resort_guests1)\n",
    "city_rate = len(city_guests)/len(city_guests1)\n",
    "print('城市酒店入住率：{}，度假酒店入住率{}'.format(round(resort_rate,3),round(city_rate,3)))"
   ]
  },
  {
   "cell_type": "markdown",
   "metadata": {},
   "source": [
    "# 2 用户行为"
   ]
  },
  {
   "cell_type": "markdown",
   "metadata": {},
   "source": [
    "## 2.1 数值属性\n",
    "主要包括：提前预订时间、入住时长、顾客人数（成人+儿童+婴儿）以及平均房价，分别计算了其的五数概括，并用直方图以及盒图进行了可视化。"
   ]
  },
  {
   "cell_type": "code",
   "execution_count": 9,
   "metadata": {},
   "outputs": [],
   "source": [
    "hotel_df['number_of_guests'] = hotel_df['adults'] + hotel_df['children'] + hotel_df['babies']\n",
    "hotel_df['stays_night'] = hotel_df['stays_in_weekend_nights'] + hotel_df['stays_in_week_nights']"
   ]
  },
  {
   "cell_type": "code",
   "execution_count": 10,
   "metadata": {},
   "outputs": [
    {
     "data": {
      "text/html": [
       "<div>\n",
       "<style scoped>\n",
       "    .dataframe tbody tr th:only-of-type {\n",
       "        vertical-align: middle;\n",
       "    }\n",
       "\n",
       "    .dataframe tbody tr th {\n",
       "        vertical-align: top;\n",
       "    }\n",
       "\n",
       "    .dataframe thead th {\n",
       "        text-align: right;\n",
       "    }\n",
       "</style>\n",
       "<table border=\"1\" class=\"dataframe\">\n",
       "  <thead>\n",
       "    <tr style=\"text-align: right;\">\n",
       "      <th></th>\n",
       "      <th>lead_time</th>\n",
       "      <th>adr</th>\n",
       "      <th>number_of_guests</th>\n",
       "      <th>stays_night</th>\n",
       "    </tr>\n",
       "  </thead>\n",
       "  <tbody>\n",
       "    <tr>\n",
       "      <th>count</th>\n",
       "      <td>119390.000000</td>\n",
       "      <td>119390.000000</td>\n",
       "      <td>119390.000000</td>\n",
       "      <td>119390.000000</td>\n",
       "    </tr>\n",
       "    <tr>\n",
       "      <th>mean</th>\n",
       "      <td>104.011416</td>\n",
       "      <td>101.831122</td>\n",
       "      <td>1.968239</td>\n",
       "      <td>3.427900</td>\n",
       "    </tr>\n",
       "    <tr>\n",
       "      <th>std</th>\n",
       "      <td>106.863097</td>\n",
       "      <td>50.535790</td>\n",
       "      <td>0.722394</td>\n",
       "      <td>2.557439</td>\n",
       "    </tr>\n",
       "    <tr>\n",
       "      <th>min</th>\n",
       "      <td>0.000000</td>\n",
       "      <td>-6.380000</td>\n",
       "      <td>0.000000</td>\n",
       "      <td>0.000000</td>\n",
       "    </tr>\n",
       "    <tr>\n",
       "      <th>25%</th>\n",
       "      <td>18.000000</td>\n",
       "      <td>69.290000</td>\n",
       "      <td>2.000000</td>\n",
       "      <td>2.000000</td>\n",
       "    </tr>\n",
       "    <tr>\n",
       "      <th>50%</th>\n",
       "      <td>69.000000</td>\n",
       "      <td>94.575000</td>\n",
       "      <td>2.000000</td>\n",
       "      <td>3.000000</td>\n",
       "    </tr>\n",
       "    <tr>\n",
       "      <th>75%</th>\n",
       "      <td>160.000000</td>\n",
       "      <td>126.000000</td>\n",
       "      <td>2.000000</td>\n",
       "      <td>4.000000</td>\n",
       "    </tr>\n",
       "    <tr>\n",
       "      <th>max</th>\n",
       "      <td>737.000000</td>\n",
       "      <td>5400.000000</td>\n",
       "      <td>55.000000</td>\n",
       "      <td>69.000000</td>\n",
       "    </tr>\n",
       "  </tbody>\n",
       "</table>\n",
       "</div>"
      ],
      "text/plain": [
       "           lead_time            adr  number_of_guests    stays_night\n",
       "count  119390.000000  119390.000000     119390.000000  119390.000000\n",
       "mean      104.011416     101.831122          1.968239       3.427900\n",
       "std       106.863097      50.535790          0.722394       2.557439\n",
       "min         0.000000      -6.380000          0.000000       0.000000\n",
       "25%        18.000000      69.290000          2.000000       2.000000\n",
       "50%        69.000000      94.575000          2.000000       3.000000\n",
       "75%       160.000000     126.000000          2.000000       4.000000\n",
       "max       737.000000    5400.000000         55.000000      69.000000"
      ]
     },
     "execution_count": 10,
     "metadata": {},
     "output_type": "execute_result"
    }
   ],
   "source": [
    "quant_cols = list(hotel_df.select_dtypes(include=['int64','float64']))\n",
    "quant_cols = [x for x in quant_cols if x == 'lead_time' or x == 'stays_night' or x =='number_of_guests' or x == 'adr' ]\n",
    "hotel_df[quant_cols].describe()"
   ]
  },
  {
   "cell_type": "code",
   "execution_count": 11,
   "metadata": {},
   "outputs": [
    {
     "data": {
      "image/png": "[encoded data removed]",
      "text/plain": [
       "<Figure size 720x720 with 2 Axes>"
      ]
     },
     "metadata": {
      "needs_background": "light"
     },
     "output_type": "display_data"
    }
   ],
   "source": [
    "plt.figure(figsize=(10, 10))\n",
    "#直方图\n",
    "plt.subplot(2,1,1)\n",
    "plt.title(\"lead_time\")\n",
    "hotel_df['lead_time'].hist(alpha=0.5,bins=15)\n",
    "\n",
    "#盒图\n",
    "plt.subplot(2,1,2)\n",
    "hotel_df['lead_time'].plot(kind='box', notch=True, grid=True)\n",
    "plt.show()"
   ]
  },
  {
   "cell_type": "code",
   "execution_count": 12,
   "metadata": {},
   "outputs": [
    {
     "data": {
      "image/png": "[encoded data removed]",
      "text/plain": [
       "<Figure size 720x720 with 2 Axes>"
      ]
     },
     "metadata": {
      "needs_background": "light"
     },
     "output_type": "display_data"
    }
   ],
   "source": [
    "plt.figure(figsize=(10, 10))\n",
    "#直方图\n",
    "plt.subplot(2,1,1)\n",
    "plt.title(\"adr\")\n",
    "hotel_df['adr'].hist(alpha=0.5,bins=15)\n",
    "\n",
    "#盒图\n",
    "plt.subplot(2,1,2)\n",
    "hotel_df['adr'].plot(kind='box', notch=True, grid=True)\n",
    "plt.show()"
   ]
  },
  {
   "cell_type": "code",
   "execution_count": 13,
   "metadata": {},
   "outputs": [
    {
     "data": {
      "image/png": "[encoded data removed]",
      "text/plain": [
       "<Figure size 720x720 with 2 Axes>"
      ]
     },
     "metadata": {
      "needs_background": "light"
     },
     "output_type": "display_data"
    }
   ],
   "source": [
    "plt.figure(figsize=(10, 10))\n",
    "#直方图\n",
    "plt.subplot(2,1,1)\n",
    "plt.title(\"number_of_guests\")\n",
    "hotel_df['number_of_guests'].hist(alpha=0.5,bins=15)\n",
    "\n",
    "#盒图\n",
    "plt.subplot(2,1,2)\n",
    "hotel_df['number_of_guests'].plot(kind='box', notch=True, grid=True)\n",
    "plt.show()"
   ]
  },
  {
   "cell_type": "code",
   "execution_count": 14,
   "metadata": {},
   "outputs": [
    {
     "data": {
      "image/png": "[encoded data removed]",
      "text/plain": [
       "<Figure size 720x720 with 2 Axes>"
      ]
     },
     "metadata": {
      "needs_background": "light"
     },
     "output_type": "display_data"
    }
   ],
   "source": [
    "plt.figure(figsize=(10, 10))\n",
    "#直方图\n",
    "plt.subplot(2,1,1)\n",
    "plt.title(\"stays_night\")\n",
    "hotel_df['stays_night'].hist(alpha=0.5,bins=15)\n",
    "\n",
    "#盒图\n",
    "plt.subplot(2,1,2)\n",
    "hotel_df['stays_night'].plot(kind='box', notch=True, grid=True)\n",
    "plt.show()"
   ]
  },
  {
   "cell_type": "markdown",
   "metadata": {},
   "source": [
    "## 2.2 标称属性\n",
    "主要是餐饮情况，多数人选择的是BB –住宿加早餐酒店，而FB –全食宿（早餐，午餐和晚餐）的情况较少。"
   ]
  },
  {
   "cell_type": "code",
   "execution_count": 15,
   "metadata": {},
   "outputs": [
    {
     "data": {
      "text/plain": [
       "BB           92310\n",
       "HB           14463\n",
       "SC           10650\n",
       "Undefined     1169\n",
       "FB             798\n",
       "Name: meal, dtype: int64"
      ]
     },
     "execution_count": 15,
     "metadata": {},
     "output_type": "execute_result"
    }
   ],
   "source": [
    "pd.value_counts(hotel_df['meal'])"
   ]
  },
  {
   "cell_type": "markdown",
   "metadata": {},
   "source": [
    "# 3 最佳预订酒店时间"
   ]
  },
  {
   "cell_type": "markdown",
   "metadata": {},
   "source": [
    "## 3.1 每月酒店平均预定人数\n",
    "由于数据集的时间跨度为2015年7月至2017年8月，因此它包含3年的7月和8月数据以及2年的其余月份数据。 因此，我们需要对月份标准化计数。"
   ]
  },
  {
   "cell_type": "code",
   "execution_count": 16,
   "metadata": {},
   "outputs": [
    {
     "data": {
      "text/plain": [
       "Text(0, 0.5, 'Number of guests')"
      ]
     },
     "execution_count": 16,
     "metadata": {},
     "output_type": "execute_result"
    },
    {
     "data": {
      "image/png": "[encoded data removed]",
      "text/plain": [
       "<Figure size 720x432 with 1 Axes>"
      ]
     },
     "metadata": {
      "needs_background": "light"
     },
     "output_type": "display_data"
    }
   ],
   "source": [
    "resort_guests = hotel_df[(hotel_df['hotel'] == 'Resort Hotel') & (hotel_df['is_canceled'] == 0)]\n",
    "city_guests = hotel_df[(hotel_df['hotel'] == 'City Hotel') & (hotel_df['is_canceled'] == 0)]\n",
    "resort_guests_monthly = resort_guests.groupby(\"arrival_date_month\")[\"hotel\"].count()\n",
    "city_guests_monthly = city_guests.groupby(\"arrival_date_month\")[\"hotel\"].count()\n",
    "monthly_guests = pd.DataFrame({'month':resort_guests_monthly.index,\n",
    "                               'city_guests': city_guests_monthly.values,\n",
    "                               'resort_guests':resort_guests_monthly.values})\n",
    "months_in_order =  [\"January\", \"February\", \"March\", \"April\", \"May\", \"June\", \n",
    "                   \"July\", \"August\", \"September\", \"October\", \"November\", \"December\"]\n",
    "monthly_guests['month'] = pd.Categorical(monthly_guests['month'], categories=months_in_order, ordered=True)\n",
    "monthly_guests = monthly_guests.sort_values(by='month')\n",
    "monthly_guests.loc[(monthly_guests[\"month\"] == \"July\") | (monthly_guests[\"month\"] == \"August\"),\n",
    "                    [\"resort_guests\",'city_guests']] /= 3\n",
    "monthly_guests.loc[~((monthly_guests[\"month\"] == \"July\") | (monthly_guests[\"month\"] == \"August\")),\n",
    "                    [\"resort_guests\",'city_guests']] /= 2\n",
    "monthly_guests = monthly_guests.set_index('month')\n",
    "plt.figure(figsize=(10, 6))\n",
    "sns.lineplot( hue='hotel',data=monthly_guests, dashes=False)\n",
    "plt.title(\"Average number of guests per month\")\n",
    "plt.xlabel(\"Month\")\n",
    "plt.xticks(rotation=45)\n",
    "plt.ylabel(\"Number of guests\")"
   ]
  },
  {
   "cell_type": "markdown",
   "metadata": {},
   "source": [
    "## 3.2 每月酒店平均房价"
   ]
  },
  {
   "cell_type": "code",
   "execution_count": 17,
   "metadata": {},
   "outputs": [
    {
     "data": {
      "text/plain": [
       "Text(0, 0.5, 'Average Price')"
      ]
     },
     "execution_count": 17,
     "metadata": {},
     "output_type": "execute_result"
    },
    {
     "data": {
      "image/png": "[encoded data removed]",
      "text/plain": [
       "<Figure size 720x432 with 1 Axes>"
      ]
     },
     "metadata": {
      "needs_background": "light"
     },
     "output_type": "display_data"
    }
   ],
   "source": [
    "monthly_prices = hotel_df[['hotel','arrival_date_month','adr']].sort_values(by = 'arrival_date_month')\n",
    "monthly_prices['arrival_date_month'] = pd.Categorical(monthly_prices['arrival_date_month'], \n",
    "                                                      categories=months_in_order, ordered=True)\n",
    "plt.figure(figsize=(10, 6))\n",
    "sns.lineplot(x = 'arrival_date_month', y='adr', hue='hotel',data=monthly_prices, dashes=False)\n",
    "plt.title(\"Average Room Price by Month\")\n",
    "plt.xlabel(\"Month\")\n",
    "plt.xticks(rotation=45)\n",
    "plt.ylabel(\"Average Price\")"
   ]
  },
  {
   "cell_type": "markdown",
   "metadata": {},
   "source": [
    "## 3.3 结论\n",
    "综合以上两图可以看到，与度假酒店相比，城市酒店每个月的平均客人数更高。5月的客人人数最多，紧随其后的是10月，6月和9月。来宾最少的时间是1月和12月。相应房价也是1月和12月较低，因此最佳预定时间为1月与12月。"
   ]
  },
  {
   "cell_type": "markdown",
   "metadata": {},
   "source": [
    "# 4 Logistic预测酒店预订"
   ]
  },
  {
   "cell_type": "markdown",
   "metadata": {},
   "source": [
    "## 4.1 导入必须的库"
   ]
  },
  {
   "cell_type": "code",
   "execution_count": 18,
   "metadata": {},
   "outputs": [
    {
     "name": "stderr",
     "output_type": "stream",
     "text": [
      "Using TensorFlow backend.\n"
     ]
    }
   ],
   "source": [
    "from sklearn.pipeline import make_pipeline, Pipeline\n",
    "from sklearn.impute import SimpleImputer\n",
    "from sklearn.preprocessing import StandardScaler, OneHotEncoder\n",
    "from sklearn.compose import ColumnTransformer, make_column_transformer\n",
    "\n",
    "from sklearn.linear_model import LogisticRegression # Logistic Regression\n",
    "\n",
    "from sklearn.model_selection import cross_val_score\n",
    "from sklearn.model_selection import KFold\n",
    "from sklearn.model_selection import StratifiedKFold\n",
    "\n",
    "from imblearn import under_sampling, over_sampling\n",
    "from imblearn.over_sampling import SMOTE\n",
    "\n",
    "from sklearn import metrics\n",
    "from sklearn.metrics import classification_report\n",
    "from sklearn.metrics import plot_confusion_matrix\n",
    "from sklearn.metrics import plot_roc_curve\n",
    "\n",
    "from sklearn.model_selection import train_test_split"
   ]
  },
  {
   "cell_type": "markdown",
   "metadata": {},
   "source": [
    "## 4.2 将数据集拆分为训练集和测试集\n",
    "选取了数据集中和是否退订有关的13个属性。"
   ]
  },
  {
   "cell_type": "code",
   "execution_count": 19,
   "metadata": {
    "scrolled": true
   },
   "outputs": [
    {
     "name": "stdout",
     "output_type": "stream",
     "text": [
      "Dimension of Training Dataset:  (83573, 13)\n"
     ]
    },
    {
     "data": {
      "text/html": [
       "<div>\n",
       "<style scoped>\n",
       "    .dataframe tbody tr th:only-of-type {\n",
       "        vertical-align: middle;\n",
       "    }\n",
       "\n",
       "    .dataframe tbody tr th {\n",
       "        vertical-align: top;\n",
       "    }\n",
       "\n",
       "    .dataframe thead th {\n",
       "        text-align: right;\n",
       "    }\n",
       "</style>\n",
       "<table border=\"1\" class=\"dataframe\">\n",
       "  <thead>\n",
       "    <tr style=\"text-align: right;\">\n",
       "      <th></th>\n",
       "      <th>hotel</th>\n",
       "      <th>lead_time</th>\n",
       "      <th>arrival_date_week_number</th>\n",
       "      <th>stays_in_week_nights</th>\n",
       "      <th>meal</th>\n",
       "      <th>booking_changes</th>\n",
       "      <th>deposit_type</th>\n",
       "      <th>days_in_waiting_list</th>\n",
       "      <th>customer_type</th>\n",
       "      <th>is_repeated_guest</th>\n",
       "      <th>previous_cancellations</th>\n",
       "      <th>market_segment</th>\n",
       "      <th>adr</th>\n",
       "    </tr>\n",
       "  </thead>\n",
       "  <tbody>\n",
       "    <tr>\n",
       "      <th>63764</th>\n",
       "      <td>City Hotel</td>\n",
       "      <td>32</td>\n",
       "      <td>8</td>\n",
       "      <td>1</td>\n",
       "      <td>BB</td>\n",
       "      <td>0</td>\n",
       "      <td>Non Refund</td>\n",
       "      <td>0</td>\n",
       "      <td>Transient</td>\n",
       "      <td>0</td>\n",
       "      <td>0</td>\n",
       "      <td>Groups</td>\n",
       "      <td>75.00</td>\n",
       "    </tr>\n",
       "    <tr>\n",
       "      <th>111758</th>\n",
       "      <td>City Hotel</td>\n",
       "      <td>129</td>\n",
       "      <td>19</td>\n",
       "      <td>2</td>\n",
       "      <td>SC</td>\n",
       "      <td>0</td>\n",
       "      <td>No Deposit</td>\n",
       "      <td>0</td>\n",
       "      <td>Transient</td>\n",
       "      <td>0</td>\n",
       "      <td>0</td>\n",
       "      <td>Online TA</td>\n",
       "      <td>120.00</td>\n",
       "    </tr>\n",
       "    <tr>\n",
       "      <th>5660</th>\n",
       "      <td>Resort Hotel</td>\n",
       "      <td>192</td>\n",
       "      <td>20</td>\n",
       "      <td>5</td>\n",
       "      <td>BB</td>\n",
       "      <td>0</td>\n",
       "      <td>No Deposit</td>\n",
       "      <td>0</td>\n",
       "      <td>Transient</td>\n",
       "      <td>0</td>\n",
       "      <td>0</td>\n",
       "      <td>Offline TA/TO</td>\n",
       "      <td>53.87</td>\n",
       "    </tr>\n",
       "    <tr>\n",
       "      <th>103383</th>\n",
       "      <td>City Hotel</td>\n",
       "      <td>0</td>\n",
       "      <td>52</td>\n",
       "      <td>1</td>\n",
       "      <td>BB</td>\n",
       "      <td>1</td>\n",
       "      <td>No Deposit</td>\n",
       "      <td>0</td>\n",
       "      <td>Group</td>\n",
       "      <td>0</td>\n",
       "      <td>0</td>\n",
       "      <td>Offline TA/TO</td>\n",
       "      <td>65.00</td>\n",
       "    </tr>\n",
       "    <tr>\n",
       "      <th>112677</th>\n",
       "      <td>City Hotel</td>\n",
       "      <td>146</td>\n",
       "      <td>21</td>\n",
       "      <td>3</td>\n",
       "      <td>BB</td>\n",
       "      <td>0</td>\n",
       "      <td>No Deposit</td>\n",
       "      <td>0</td>\n",
       "      <td>Transient</td>\n",
       "      <td>0</td>\n",
       "      <td>0</td>\n",
       "      <td>Direct</td>\n",
       "      <td>178.50</td>\n",
       "    </tr>\n",
       "  </tbody>\n",
       "</table>\n",
       "</div>"
      ],
      "text/plain": [
       "               hotel  lead_time  arrival_date_week_number  \\\n",
       "63764     City Hotel         32                         8   \n",
       "111758    City Hotel        129                        19   \n",
       "5660    Resort Hotel        192                        20   \n",
       "103383    City Hotel          0                        52   \n",
       "112677    City Hotel        146                        21   \n",
       "\n",
       "        stays_in_week_nights meal  booking_changes deposit_type  \\\n",
       "63764                      1   BB                0   Non Refund   \n",
       "111758                     2   SC                0   No Deposit   \n",
       "5660                       5   BB                0   No Deposit   \n",
       "103383                     1   BB                1   No Deposit   \n",
       "112677                     3   BB                0   No Deposit   \n",
       "\n",
       "        days_in_waiting_list customer_type  is_repeated_guest  \\\n",
       "63764                      0     Transient                  0   \n",
       "111758                     0     Transient                  0   \n",
       "5660                       0     Transient                  0   \n",
       "103383                     0         Group                  0   \n",
       "112677                     0     Transient                  0   \n",
       "\n",
       "        previous_cancellations market_segment     adr  \n",
       "63764                        0         Groups   75.00  \n",
       "111758                       0      Online TA  120.00  \n",
       "5660                         0  Offline TA/TO   53.87  \n",
       "103383                       0  Offline TA/TO   65.00  \n",
       "112677                       0         Direct  178.50  "
      ]
     },
     "metadata": {},
     "output_type": "display_data"
    },
    {
     "name": "stdout",
     "output_type": "stream",
     "text": [
      "Dimension of Testing Dataset:  (35817, 13)\n"
     ]
    },
    {
     "data": {
      "text/html": [
       "<div>\n",
       "<style scoped>\n",
       "    .dataframe tbody tr th:only-of-type {\n",
       "        vertical-align: middle;\n",
       "    }\n",
       "\n",
       "    .dataframe tbody tr th {\n",
       "        vertical-align: top;\n",
       "    }\n",
       "\n",
       "    .dataframe thead th {\n",
       "        text-align: right;\n",
       "    }\n",
       "</style>\n",
       "<table border=\"1\" class=\"dataframe\">\n",
       "  <thead>\n",
       "    <tr style=\"text-align: right;\">\n",
       "      <th></th>\n",
       "      <th>hotel</th>\n",
       "      <th>lead_time</th>\n",
       "      <th>arrival_date_week_number</th>\n",
       "      <th>stays_in_week_nights</th>\n",
       "      <th>meal</th>\n",
       "      <th>booking_changes</th>\n",
       "      <th>deposit_type</th>\n",
       "      <th>days_in_waiting_list</th>\n",
       "      <th>customer_type</th>\n",
       "      <th>is_repeated_guest</th>\n",
       "      <th>previous_cancellations</th>\n",
       "      <th>market_segment</th>\n",
       "      <th>adr</th>\n",
       "    </tr>\n",
       "  </thead>\n",
       "  <tbody>\n",
       "    <tr>\n",
       "      <th>2060</th>\n",
       "      <td>Resort Hotel</td>\n",
       "      <td>19</td>\n",
       "      <td>40</td>\n",
       "      <td>1</td>\n",
       "      <td>BB</td>\n",
       "      <td>1</td>\n",
       "      <td>No Deposit</td>\n",
       "      <td>0</td>\n",
       "      <td>Transient</td>\n",
       "      <td>0</td>\n",
       "      <td>0</td>\n",
       "      <td>Direct</td>\n",
       "      <td>106.00</td>\n",
       "    </tr>\n",
       "    <tr>\n",
       "      <th>32804</th>\n",
       "      <td>Resort Hotel</td>\n",
       "      <td>80</td>\n",
       "      <td>5</td>\n",
       "      <td>1</td>\n",
       "      <td>BB</td>\n",
       "      <td>0</td>\n",
       "      <td>No Deposit</td>\n",
       "      <td>0</td>\n",
       "      <td>Transient-Party</td>\n",
       "      <td>0</td>\n",
       "      <td>0</td>\n",
       "      <td>Online TA</td>\n",
       "      <td>63.65</td>\n",
       "    </tr>\n",
       "    <tr>\n",
       "      <th>9604</th>\n",
       "      <td>Resort Hotel</td>\n",
       "      <td>0</td>\n",
       "      <td>52</td>\n",
       "      <td>1</td>\n",
       "      <td>BB</td>\n",
       "      <td>0</td>\n",
       "      <td>No Deposit</td>\n",
       "      <td>0</td>\n",
       "      <td>Transient</td>\n",
       "      <td>0</td>\n",
       "      <td>0</td>\n",
       "      <td>Online TA</td>\n",
       "      <td>43.00</td>\n",
       "    </tr>\n",
       "    <tr>\n",
       "      <th>39265</th>\n",
       "      <td>Resort Hotel</td>\n",
       "      <td>262</td>\n",
       "      <td>32</td>\n",
       "      <td>5</td>\n",
       "      <td>HB</td>\n",
       "      <td>1</td>\n",
       "      <td>No Deposit</td>\n",
       "      <td>0</td>\n",
       "      <td>Transient</td>\n",
       "      <td>0</td>\n",
       "      <td>0</td>\n",
       "      <td>Direct</td>\n",
       "      <td>288.03</td>\n",
       "    </tr>\n",
       "    <tr>\n",
       "      <th>45354</th>\n",
       "      <td>City Hotel</td>\n",
       "      <td>61</td>\n",
       "      <td>44</td>\n",
       "      <td>1</td>\n",
       "      <td>BB</td>\n",
       "      <td>0</td>\n",
       "      <td>No Deposit</td>\n",
       "      <td>0</td>\n",
       "      <td>Transient</td>\n",
       "      <td>0</td>\n",
       "      <td>0</td>\n",
       "      <td>Offline TA/TO</td>\n",
       "      <td>72.24</td>\n",
       "    </tr>\n",
       "  </tbody>\n",
       "</table>\n",
       "</div>"
      ],
      "text/plain": [
       "              hotel  lead_time  arrival_date_week_number  \\\n",
       "2060   Resort Hotel         19                        40   \n",
       "32804  Resort Hotel         80                         5   \n",
       "9604   Resort Hotel          0                        52   \n",
       "39265  Resort Hotel        262                        32   \n",
       "45354    City Hotel         61                        44   \n",
       "\n",
       "       stays_in_week_nights meal  booking_changes deposit_type  \\\n",
       "2060                      1   BB                1   No Deposit   \n",
       "32804                     1   BB                0   No Deposit   \n",
       "9604                      1   BB                0   No Deposit   \n",
       "39265                     5   HB                1   No Deposit   \n",
       "45354                     1   BB                0   No Deposit   \n",
       "\n",
       "       days_in_waiting_list    customer_type  is_repeated_guest  \\\n",
       "2060                      0        Transient                  0   \n",
       "32804                     0  Transient-Party                  0   \n",
       "9604                      0        Transient                  0   \n",
       "39265                     0        Transient                  0   \n",
       "45354                     0        Transient                  0   \n",
       "\n",
       "       previous_cancellations market_segment     adr  \n",
       "2060                        0         Direct  106.00  \n",
       "32804                       0      Online TA   63.65  \n",
       "9604                        0      Online TA   43.00  \n",
       "39265                       0         Direct  288.03  \n",
       "45354                       0  Offline TA/TO   72.24  "
      ]
     },
     "metadata": {},
     "output_type": "display_data"
    }
   ],
   "source": [
    "X_features = hotel_df[['hotel','lead_time','arrival_date_week_number','stays_in_week_nights','meal','booking_changes','deposit_type',\n",
    "                      'days_in_waiting_list','customer_type','is_repeated_guest','previous_cancellations','market_segment','adr']]\n",
    "y_target = hotel_df.is_canceled\n",
    "X_train, X_test, y_train, y_test = train_test_split(X_features, y_target, test_size = 0.3, \n",
    "                                                    random_state=0, stratify=y_target)\n",
    "print (\"Dimension of Training Dataset: \", X_train.shape)\n",
    "display(X_train.head())\n",
    "print (\"Dimension of Testing Dataset: \", X_test.shape)\n",
    "display(X_test.head())"
   ]
  },
  {
   "cell_type": "markdown",
   "metadata": {},
   "source": [
    "## 4.3 列出参与的特征，并分为数值与标称"
   ]
  },
  {
   "cell_type": "code",
   "execution_count": 20,
   "metadata": {},
   "outputs": [
    {
     "name": "stdout",
     "output_type": "stream",
     "text": [
      "Features of Train Dataset:\n",
      "\n",
      "['lead_time', 'arrival_date_week_number', 'stays_in_week_nights', 'booking_changes', 'days_in_waiting_list', 'is_repeated_guest', 'previous_cancellations', 'adr'] ['hotel', 'meal', 'deposit_type', 'customer_type', 'market_segment']\n",
      "\n",
      "\n",
      "Features of Test Dataset:\n",
      "\n",
      "['lead_time', 'arrival_date_week_number', 'stays_in_week_nights', 'booking_changes', 'days_in_waiting_list', 'is_repeated_guest', 'previous_cancellations', 'adr'] ['hotel', 'meal', 'deposit_type', 'customer_type', 'market_segment']\n"
     ]
    }
   ],
   "source": [
    "def num_cat(df):\n",
    "    num_int_type = df.select_dtypes(include='int64').columns.tolist()\n",
    "    num_float_type = df.select_dtypes(include='float64').columns.tolist()\n",
    "    num_type = num_int_type + num_float_type\n",
    "    cat_object_type = df.select_dtypes(include='object').columns.tolist()\n",
    "    return num_type, cat_object_type\n",
    "num_type_tn, cat_obj_type_tn = num_cat(X_train)\n",
    "print(\"Features of Train Dataset:\\n\")\n",
    "print(num_type_tn, cat_obj_type_tn)\n",
    "num_type_tt, cat_obj_type_tt = num_cat(X_test)\n",
    "print(\"\\n\\nFeatures of Test Dataset:\\n\")\n",
    "print(num_type_tt, cat_obj_type_tt)"
   ]
  },
  {
   "cell_type": "markdown",
   "metadata": {},
   "source": [
    "## 4.4 编码和缩放训练和测试的数据集"
   ]
  },
  {
   "cell_type": "code",
   "execution_count": 21,
   "metadata": {},
   "outputs": [
    {
     "name": "stdout",
     "output_type": "stream",
     "text": [
      "Encoded and Scaled of the Train dataset \n"
     ]
    },
    {
     "data": {
      "text/html": [
       "<div>\n",
       "<style scoped>\n",
       "    .dataframe tbody tr th:only-of-type {\n",
       "        vertical-align: middle;\n",
       "    }\n",
       "\n",
       "    .dataframe tbody tr th {\n",
       "        vertical-align: top;\n",
       "    }\n",
       "\n",
       "    .dataframe thead th {\n",
       "        text-align: right;\n",
       "    }\n",
       "</style>\n",
       "<table border=\"1\" class=\"dataframe\">\n",
       "  <thead>\n",
       "    <tr style=\"text-align: right;\">\n",
       "      <th></th>\n",
       "      <th>0</th>\n",
       "      <th>1</th>\n",
       "      <th>2</th>\n",
       "      <th>3</th>\n",
       "      <th>4</th>\n",
       "      <th>5</th>\n",
       "      <th>6</th>\n",
       "      <th>7</th>\n",
       "      <th>8</th>\n",
       "      <th>9</th>\n",
       "      <th>...</th>\n",
       "      <th>20</th>\n",
       "      <th>21</th>\n",
       "      <th>22</th>\n",
       "      <th>23</th>\n",
       "      <th>24</th>\n",
       "      <th>25</th>\n",
       "      <th>26</th>\n",
       "      <th>27</th>\n",
       "      <th>28</th>\n",
       "      <th>29</th>\n",
       "    </tr>\n",
       "  </thead>\n",
       "  <tbody>\n",
       "    <tr>\n",
       "      <th>0</th>\n",
       "      <td>-0.672125</td>\n",
       "      <td>-1.404730</td>\n",
       "      <td>-0.782613</td>\n",
       "      <td>-0.344709</td>\n",
       "      <td>-0.130554</td>\n",
       "      <td>-0.181455</td>\n",
       "      <td>-0.104208</td>\n",
       "      <td>-0.558452</td>\n",
       "      <td>1.0</td>\n",
       "      <td>0.0</td>\n",
       "      <td>...</td>\n",
       "      <td>1.0</td>\n",
       "      <td>0.0</td>\n",
       "      <td>0.0</td>\n",
       "      <td>0.0</td>\n",
       "      <td>0.0</td>\n",
       "      <td>0.0</td>\n",
       "      <td>1.0</td>\n",
       "      <td>0.0</td>\n",
       "      <td>0.0</td>\n",
       "      <td>0.0</td>\n",
       "    </tr>\n",
       "    <tr>\n",
       "      <th>1</th>\n",
       "      <td>0.237013</td>\n",
       "      <td>-0.596925</td>\n",
       "      <td>-0.260348</td>\n",
       "      <td>-0.344709</td>\n",
       "      <td>-0.130554</td>\n",
       "      <td>-0.181455</td>\n",
       "      <td>-0.104208</td>\n",
       "      <td>0.377188</td>\n",
       "      <td>1.0</td>\n",
       "      <td>0.0</td>\n",
       "      <td>...</td>\n",
       "      <td>1.0</td>\n",
       "      <td>0.0</td>\n",
       "      <td>0.0</td>\n",
       "      <td>0.0</td>\n",
       "      <td>0.0</td>\n",
       "      <td>0.0</td>\n",
       "      <td>0.0</td>\n",
       "      <td>0.0</td>\n",
       "      <td>1.0</td>\n",
       "      <td>0.0</td>\n",
       "    </tr>\n",
       "    <tr>\n",
       "      <th>2</th>\n",
       "      <td>0.827484</td>\n",
       "      <td>-0.523488</td>\n",
       "      <td>1.306446</td>\n",
       "      <td>-0.344709</td>\n",
       "      <td>-0.130554</td>\n",
       "      <td>-0.181455</td>\n",
       "      <td>-0.104208</td>\n",
       "      <td>-0.997788</td>\n",
       "      <td>0.0</td>\n",
       "      <td>1.0</td>\n",
       "      <td>...</td>\n",
       "      <td>1.0</td>\n",
       "      <td>0.0</td>\n",
       "      <td>0.0</td>\n",
       "      <td>0.0</td>\n",
       "      <td>0.0</td>\n",
       "      <td>0.0</td>\n",
       "      <td>0.0</td>\n",
       "      <td>1.0</td>\n",
       "      <td>0.0</td>\n",
       "      <td>0.0</td>\n",
       "    </tr>\n",
       "    <tr>\n",
       "      <th>3</th>\n",
       "      <td>-0.972047</td>\n",
       "      <td>1.826493</td>\n",
       "      <td>-0.782613</td>\n",
       "      <td>1.212919</td>\n",
       "      <td>-0.130554</td>\n",
       "      <td>-0.181455</td>\n",
       "      <td>-0.104208</td>\n",
       "      <td>-0.766373</td>\n",
       "      <td>1.0</td>\n",
       "      <td>0.0</td>\n",
       "      <td>...</td>\n",
       "      <td>0.0</td>\n",
       "      <td>0.0</td>\n",
       "      <td>0.0</td>\n",
       "      <td>0.0</td>\n",
       "      <td>0.0</td>\n",
       "      <td>0.0</td>\n",
       "      <td>0.0</td>\n",
       "      <td>1.0</td>\n",
       "      <td>0.0</td>\n",
       "      <td>0.0</td>\n",
       "    </tr>\n",
       "    <tr>\n",
       "      <th>4</th>\n",
       "      <td>0.396347</td>\n",
       "      <td>-0.450051</td>\n",
       "      <td>0.261917</td>\n",
       "      <td>-0.344709</td>\n",
       "      <td>-0.130554</td>\n",
       "      <td>-0.181455</td>\n",
       "      <td>-0.104208</td>\n",
       "      <td>1.593521</td>\n",
       "      <td>1.0</td>\n",
       "      <td>0.0</td>\n",
       "      <td>...</td>\n",
       "      <td>1.0</td>\n",
       "      <td>0.0</td>\n",
       "      <td>0.0</td>\n",
       "      <td>0.0</td>\n",
       "      <td>0.0</td>\n",
       "      <td>1.0</td>\n",
       "      <td>0.0</td>\n",
       "      <td>0.0</td>\n",
       "      <td>0.0</td>\n",
       "      <td>0.0</td>\n",
       "    </tr>\n",
       "  </tbody>\n",
       "</table>\n",
       "<p>5 rows × 30 columns</p>\n",
       "</div>"
      ],
      "text/plain": [
       "         0         1         2         3         4         5         6   \\\n",
       "0 -0.672125 -1.404730 -0.782613 -0.344709 -0.130554 -0.181455 -0.104208   \n",
       "1  0.237013 -0.596925 -0.260348 -0.344709 -0.130554 -0.181455 -0.104208   \n",
       "2  0.827484 -0.523488  1.306446 -0.344709 -0.130554 -0.181455 -0.104208   \n",
       "3 -0.972047  1.826493 -0.782613  1.212919 -0.130554 -0.181455 -0.104208   \n",
       "4  0.396347 -0.450051  0.261917 -0.344709 -0.130554 -0.181455 -0.104208   \n",
       "\n",
       "         7    8    9   ...   20   21   22   23   24   25   26   27   28   29  \n",
       "0 -0.558452  1.0  0.0  ...  1.0  0.0  0.0  0.0  0.0  0.0  1.0  0.0  0.0  0.0  \n",
       "1  0.377188  1.0  0.0  ...  1.0  0.0  0.0  0.0  0.0  0.0  0.0  0.0  1.0  0.0  \n",
       "2 -0.997788  0.0  1.0  ...  1.0  0.0  0.0  0.0  0.0  0.0  0.0  1.0  0.0  0.0  \n",
       "3 -0.766373  1.0  0.0  ...  0.0  0.0  0.0  0.0  0.0  0.0  0.0  1.0  0.0  0.0  \n",
       "4  1.593521  1.0  0.0  ...  1.0  0.0  0.0  0.0  0.0  1.0  0.0  0.0  0.0  0.0  \n",
       "\n",
       "[5 rows x 30 columns]"
      ]
     },
     "metadata": {},
     "output_type": "display_data"
    },
    {
     "name": "stdout",
     "output_type": "stream",
     "text": [
      "Encoded and Scaled of the Test dataset \n"
     ]
    },
    {
     "data": {
      "text/html": [
       "<div>\n",
       "<style scoped>\n",
       "    .dataframe tbody tr th:only-of-type {\n",
       "        vertical-align: middle;\n",
       "    }\n",
       "\n",
       "    .dataframe tbody tr th {\n",
       "        vertical-align: top;\n",
       "    }\n",
       "\n",
       "    .dataframe thead th {\n",
       "        text-align: right;\n",
       "    }\n",
       "</style>\n",
       "<table border=\"1\" class=\"dataframe\">\n",
       "  <thead>\n",
       "    <tr style=\"text-align: right;\">\n",
       "      <th></th>\n",
       "      <th>0</th>\n",
       "      <th>1</th>\n",
       "      <th>2</th>\n",
       "      <th>3</th>\n",
       "      <th>4</th>\n",
       "      <th>5</th>\n",
       "      <th>6</th>\n",
       "      <th>7</th>\n",
       "      <th>8</th>\n",
       "      <th>9</th>\n",
       "      <th>...</th>\n",
       "      <th>20</th>\n",
       "      <th>21</th>\n",
       "      <th>22</th>\n",
       "      <th>23</th>\n",
       "      <th>24</th>\n",
       "      <th>25</th>\n",
       "      <th>26</th>\n",
       "      <th>27</th>\n",
       "      <th>28</th>\n",
       "      <th>29</th>\n",
       "    </tr>\n",
       "  </thead>\n",
       "  <tbody>\n",
       "    <tr>\n",
       "      <th>0</th>\n",
       "      <td>-0.793968</td>\n",
       "      <td>0.945250</td>\n",
       "      <td>-0.782613</td>\n",
       "      <td>1.212919</td>\n",
       "      <td>-0.130554</td>\n",
       "      <td>-0.181455</td>\n",
       "      <td>-0.104208</td>\n",
       "      <td>0.086100</td>\n",
       "      <td>0.0</td>\n",
       "      <td>1.0</td>\n",
       "      <td>...</td>\n",
       "      <td>1.0</td>\n",
       "      <td>0.0</td>\n",
       "      <td>0.0</td>\n",
       "      <td>0.0</td>\n",
       "      <td>0.0</td>\n",
       "      <td>1.0</td>\n",
       "      <td>0.0</td>\n",
       "      <td>0.0</td>\n",
       "      <td>0.0</td>\n",
       "      <td>0.0</td>\n",
       "    </tr>\n",
       "    <tr>\n",
       "      <th>1</th>\n",
       "      <td>-0.222242</td>\n",
       "      <td>-1.625041</td>\n",
       "      <td>-0.782613</td>\n",
       "      <td>-0.344709</td>\n",
       "      <td>-0.130554</td>\n",
       "      <td>-0.181455</td>\n",
       "      <td>-0.104208</td>\n",
       "      <td>-0.794442</td>\n",
       "      <td>0.0</td>\n",
       "      <td>1.0</td>\n",
       "      <td>...</td>\n",
       "      <td>0.0</td>\n",
       "      <td>1.0</td>\n",
       "      <td>0.0</td>\n",
       "      <td>0.0</td>\n",
       "      <td>0.0</td>\n",
       "      <td>0.0</td>\n",
       "      <td>0.0</td>\n",
       "      <td>0.0</td>\n",
       "      <td>1.0</td>\n",
       "      <td>0.0</td>\n",
       "    </tr>\n",
       "    <tr>\n",
       "      <th>2</th>\n",
       "      <td>-0.972047</td>\n",
       "      <td>1.826493</td>\n",
       "      <td>-0.782613</td>\n",
       "      <td>-0.344709</td>\n",
       "      <td>-0.130554</td>\n",
       "      <td>-0.181455</td>\n",
       "      <td>-0.104208</td>\n",
       "      <td>-1.223797</td>\n",
       "      <td>0.0</td>\n",
       "      <td>1.0</td>\n",
       "      <td>...</td>\n",
       "      <td>1.0</td>\n",
       "      <td>0.0</td>\n",
       "      <td>0.0</td>\n",
       "      <td>0.0</td>\n",
       "      <td>0.0</td>\n",
       "      <td>0.0</td>\n",
       "      <td>0.0</td>\n",
       "      <td>0.0</td>\n",
       "      <td>1.0</td>\n",
       "      <td>0.0</td>\n",
       "    </tr>\n",
       "    <tr>\n",
       "      <th>3</th>\n",
       "      <td>1.483564</td>\n",
       "      <td>0.357755</td>\n",
       "      <td>1.306446</td>\n",
       "      <td>1.212919</td>\n",
       "      <td>-0.130554</td>\n",
       "      <td>-0.181455</td>\n",
       "      <td>-0.104208</td>\n",
       "      <td>3.870871</td>\n",
       "      <td>0.0</td>\n",
       "      <td>1.0</td>\n",
       "      <td>...</td>\n",
       "      <td>1.0</td>\n",
       "      <td>0.0</td>\n",
       "      <td>0.0</td>\n",
       "      <td>0.0</td>\n",
       "      <td>0.0</td>\n",
       "      <td>1.0</td>\n",
       "      <td>0.0</td>\n",
       "      <td>0.0</td>\n",
       "      <td>0.0</td>\n",
       "      <td>0.0</td>\n",
       "    </tr>\n",
       "    <tr>\n",
       "      <th>4</th>\n",
       "      <td>-0.400321</td>\n",
       "      <td>1.238998</td>\n",
       "      <td>-0.782613</td>\n",
       "      <td>-0.344709</td>\n",
       "      <td>-0.130554</td>\n",
       "      <td>-0.181455</td>\n",
       "      <td>-0.104208</td>\n",
       "      <td>-0.615838</td>\n",
       "      <td>1.0</td>\n",
       "      <td>0.0</td>\n",
       "      <td>...</td>\n",
       "      <td>1.0</td>\n",
       "      <td>0.0</td>\n",
       "      <td>0.0</td>\n",
       "      <td>0.0</td>\n",
       "      <td>0.0</td>\n",
       "      <td>0.0</td>\n",
       "      <td>0.0</td>\n",
       "      <td>1.0</td>\n",
       "      <td>0.0</td>\n",
       "      <td>0.0</td>\n",
       "    </tr>\n",
       "  </tbody>\n",
       "</table>\n",
       "<p>5 rows × 30 columns</p>\n",
       "</div>"
      ],
      "text/plain": [
       "         0         1         2         3         4         5         6   \\\n",
       "0 -0.793968  0.945250 -0.782613  1.212919 -0.130554 -0.181455 -0.104208   \n",
       "1 -0.222242 -1.625041 -0.782613 -0.344709 -0.130554 -0.181455 -0.104208   \n",
       "2 -0.972047  1.826493 -0.782613 -0.344709 -0.130554 -0.181455 -0.104208   \n",
       "3  1.483564  0.357755  1.306446  1.212919 -0.130554 -0.181455 -0.104208   \n",
       "4 -0.400321  1.238998 -0.782613 -0.344709 -0.130554 -0.181455 -0.104208   \n",
       "\n",
       "         7    8    9   ...   20   21   22   23   24   25   26   27   28   29  \n",
       "0  0.086100  0.0  1.0  ...  1.0  0.0  0.0  0.0  0.0  1.0  0.0  0.0  0.0  0.0  \n",
       "1 -0.794442  0.0  1.0  ...  0.0  1.0  0.0  0.0  0.0  0.0  0.0  0.0  1.0  0.0  \n",
       "2 -1.223797  0.0  1.0  ...  1.0  0.0  0.0  0.0  0.0  0.0  0.0  0.0  1.0  0.0  \n",
       "3  3.870871  0.0  1.0  ...  1.0  0.0  0.0  0.0  0.0  1.0  0.0  0.0  0.0  0.0  \n",
       "4 -0.615838  1.0  0.0  ...  1.0  0.0  0.0  0.0  0.0  0.0  0.0  1.0  0.0  0.0  \n",
       "\n",
       "[5 rows x 30 columns]"
      ]
     },
     "metadata": {},
     "output_type": "display_data"
    }
   ],
   "source": [
    "def num_cat_transformer(num_type, cat_object_type):\n",
    "    num_transformer = make_pipeline(StandardScaler(),\n",
    "                                    SimpleImputer(strategy='constant'))\n",
    "    cat_transformer = make_pipeline(SimpleImputer(strategy='constant'),\n",
    "                                    OneHotEncoder(sparse=False, handle_unknown='ignore'))\n",
    "    column_transformer = make_column_transformer((num_transformer, num_type),\n",
    "                                                   (cat_transformer, cat_object_type))\n",
    "    return column_transformer\n",
    "\n",
    "column_transformer_tn = num_cat_transformer(num_type_tn, cat_obj_type_tn)\n",
    "X_train = pd.DataFrame(column_transformer_tn.fit_transform(X_train))\n",
    "print(\"Encoded and Scaled of the Train dataset \")\n",
    "display(X_train.head())\n",
    "\n",
    "X_test = pd.DataFrame(column_transformer_tn.transform(X_test))\n",
    "print(\"Encoded and Scaled of the Test dataset \")\n",
    "display(X_test.head())"
   ]
  },
  {
   "cell_type": "markdown",
   "metadata": {},
   "source": [
    "## 4.5 训练和预测数据集"
   ]
  },
  {
   "cell_type": "code",
   "execution_count": 22,
   "metadata": {},
   "outputs": [
    {
     "name": "stdout",
     "output_type": "stream",
     "text": [
      "\n",
      "Model: \n",
      " LogisticRegression(C=1.0, class_weight=None, dual=False, fit_intercept=True,\n",
      "                   intercept_scaling=1, l1_ratio=None, max_iter=100,\n",
      "                   multi_class='auto', n_jobs=-1, penalty='l2', random_state=42,\n",
      "                   solver='lbfgs', tol=0.0001, verbose=0, warm_start=False)\n",
      "Before SMOTE:  Counter({0: 52616, 1: 30957})\n",
      "After SMOTE:  Counter({1: 52616, 0: 52616})\n",
      "\n",
      " Precision obtained from CV on Train Data: 0.7767\n",
      "Classification Report:\n",
      "               precision    recall  f1-score   support\n",
      "\n",
      "           0       0.75      0.96      0.84     22550\n",
      "           1       0.87      0.46      0.60     13267\n",
      "\n",
      "    accuracy                           0.77     35817\n",
      "   macro avg       0.81      0.71      0.72     35817\n",
      "weighted avg       0.80      0.77      0.75     35817\n",
      "\n",
      "ROC curve: \n",
      " <sklearn.metrics._plot.roc_curve.RocCurveDisplay object at 0x000002C07F39F588>\n",
      "Confusion Matrix Plot:  <sklearn.metrics._plot.confusion_matrix.ConfusionMatrixDisplay object at 0x000002C07F364C08>\n",
      "Confusion Matrix: \n",
      " [[21676   874]\n",
      " [ 7216  6051]]\n"
     ]
    },
    {
     "data": {
      "image/png": "[encoded data removed]",
      "text/plain": [
       "<Figure size 432x288 with 1 Axes>"
      ]
     },
     "metadata": {
      "needs_background": "light"
     },
     "output_type": "display_data"
    },
    {
     "data": {
      "image/png": "[encoded data removed]",
      "text/plain": [
       "<Figure size 432x288 with 2 Axes>"
      ]
     },
     "metadata": {
      "needs_background": "light"
     },
     "output_type": "display_data"
    }
   ],
   "source": [
    "def upsampling_data(X, y):\n",
    "    sm = SMOTE(sampling_strategy='auto', random_state=42)\n",
    "    X_sm, y_sm = sm.fit_sample(X_train, y_train)\n",
    "    print(\"Before SMOTE: \", Counter(y_train))\n",
    "    print(\"After SMOTE: \", Counter(y_sm))\n",
    "    return X_sm, y_sm\n",
    "\n",
    "def train_model(model, X, y, num_procs, metrics):\n",
    "    split2 = StratifiedKFold(n_splits=10, shuffle=True, random_state=1)\n",
    "    cv_score = cross_val_score(model, X, y,\n",
    "                               cv=split2,\n",
    "                               scoring=metrics,\n",
    "                               n_jobs=-1).mean()\n",
    "    return cv_score\n",
    "\n",
    "def model_predict(model, X_trainn, y_trainn, X_topredict, y_true):    \n",
    "    model.fit(X_trainn, y_trainn)\n",
    "    y_pred = model.predict(X_topredict)\n",
    "    class_report = classification_report(y_test, y_pred)\n",
    "    disp_roc = plot_roc_curve(model, X_topredict, y_true)\n",
    "    conf_matrix = plot_confusion_matrix(model, X_topredict, y_true, \n",
    "                                        cmap='Blues')\n",
    "    return class_report, disp_roc, conf_matrix\n",
    "\n",
    "models = []\n",
    "mean_score = {}\n",
    "std_dev = {}\n",
    "num_procs = -1\n",
    "verbose_lvl = 0\n",
    "Logreg_model = LogisticRegression(random_state=42, n_jobs=-1)\n",
    "models.extend([Logreg_model])\n",
    "for model in models:\n",
    "    print(\"\\nModel: \\n\", model)\n",
    "    X_train_sm, y_train_sm = upsampling_data(X_train, y_train)\n",
    "    cv_score = train_model(model, X_train_sm, y_train_sm, num_procs,'precision')\n",
    "    print(\"\\n Precision obtained from CV on Train Data:\", round(cv_score, 4))\n",
    "    class_report, disp_roc, conf_matrix = model_predict(model, X_train, y_train, X_test, y_test)\n",
    "    print(\"Classification Report:\\n\", class_report)\n",
    "    print(\"ROC curve: \\n\", disp_roc)\n",
    "    print(\"Confusion Matrix Plot: \", conf_matrix)\n",
    "    print(\"Confusion Matrix: \\n\", conf_matrix.confusion_matrix)"
   ]
  }
 ],
 "metadata": {
  "kernelspec": {
   "display_name": "Python 3",
   "language": "python",
   "name": "python3"
  },
  "language_info": {
   "codemirror_mode": {
    "name": "ipython",
    "version": 3
   },
   "file_extension": ".py",
   "mimetype": "text/x-python",
   "name": "python",
   "nbconvert_exporter": "python",
   "pygments_lexer": "ipython3",
   "version": "3.7.4"
  }
 },
 "nbformat": 4,
 "nbformat_minor": 4
}
